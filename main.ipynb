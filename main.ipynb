{
 "cells": [
  {
   "cell_type": "code",
   "execution_count": 1,
   "id": "initial_id",
   "metadata": {
    "collapsed": true,
    "ExecuteTime": {
     "end_time": "2023-12-09T23:12:18.882797300Z",
     "start_time": "2023-12-09T23:12:18.836797300Z"
    }
   },
   "outputs": [
    {
     "name": "stdout",
     "output_type": "stream",
     "text": [
      "Słyszeć nie znaczy słuchać, bo słuch jest zmysłem, a słuchanie sztuką.\n",
      "uwu\n",
      "Listening does not mean hearing, for hearing is a sense, while listening is an art.\n"
     ]
    }
   ],
   "source": [
    "print(\"Słyszeć nie znaczy słuchać, bo słuch jest zmysłem, a słuchanie sztuką.\")\n",
    "print(\"uwu\")\n",
    "print(\"Listening does not mean hearing, for hearing is a sense, while listening is an art.\")"
   ]
  }
 ],
 "metadata": {
  "kernelspec": {
   "display_name": "Python 3",
   "language": "python",
   "name": "python3"
  },
  "language_info": {
   "codemirror_mode": {
    "name": "ipython",
    "version": 2
   },
   "file_extension": ".py",
   "mimetype": "text/x-python",
   "name": "python",
   "nbconvert_exporter": "python",
   "pygments_lexer": "ipython2",
   "version": "2.7.6"
  }
 },
 "nbformat": 4,
 "nbformat_minor": 5
}
